{
 "cells": [
  {
   "cell_type": "code",
   "execution_count": 1,
   "id": "78191f4c",
   "metadata": {},
   "outputs": [
    {
     "name": "stdout",
     "output_type": "stream",
     "text": [
      "Error loading module `ublox_gps`: No module named 'serial'\n"
     ]
    }
   ],
   "source": [
    "import subprocess\n",
    "\n",
    "import Adafruit_SSD1306\n",
    "from PIL import Image\n",
    "from PIL import ImageDraw\n",
    "from PIL import ImageFont\n",
    "import qwiic\n",
    "import time"
   ]
  },
  {
   "cell_type": "code",
   "execution_count": 2,
   "id": "539d3a00",
   "metadata": {},
   "outputs": [],
   "source": [
    "addresses = qwiic.scan()"
   ]
  },
  {
   "cell_type": "code",
   "execution_count": 3,
   "id": "5fe80204",
   "metadata": {},
   "outputs": [
    {
     "name": "stdout",
     "output_type": "stream",
     "text": [
      "[60, 96, 112]\n"
     ]
    }
   ],
   "source": [
    "print(addresses)"
   ]
  },
  {
   "cell_type": "code",
   "execution_count": 4,
   "id": "3db7f7b8",
   "metadata": {},
   "outputs": [],
   "source": [
    "disp = Adafruit_SSD1306.SSD1306_128_32(rst=None, i2c_bus=1, gpio=1) "
   ]
  },
  {
   "cell_type": "code",
   "execution_count": null,
   "id": "24601237",
   "metadata": {},
   "outputs": [],
   "source": [
    "# Initialize library.\n",
    "disp.begin()\n",
    "\n",
    "# Clear display.\n",
    "disp.clear()\n",
    "disp.display()\n",
    "\n",
    "# Create blank image for drawing.\n",
    "# Make sure to create image with mode '1' for 1-bit color.\n",
    "width = disp.width\n",
    "height = disp.height\n",
    "image = Image.new('1', (width, height))\n",
    "\n",
    "# Get drawing object to draw on image.\n",
    "draw = ImageDraw.Draw(image)\n",
    "\n",
    "# Draw a black filled box to clear the image.\n",
    "draw.rectangle((0,0,width,height), outline=0, fill=0)\n",
    "\n",
    "# Draw some shapes.\n",
    "# First define some constants to allow easy resizing of shapes.\n",
    "padding = -2\n",
    "top = padding\n",
    "bottom = height-padding\n",
    "# Move left to right keeping track of the current x position for drawing shapes.\n",
    "x = 0\n",
    "\n",
    "\n",
    "# Load default font.\n",
    "#font = ImageFont.load_default()\n",
    "\n",
    "# Alternatively load a TTF font.  Make sure the .ttf font file is in the same directory as the python script!\n",
    "# Some other nice fonts to try: http://www.dafont.com/bitmap.php\n",
    "font = ImageFont.truetype('Minecraftia.ttf', 8)\n"
   ]
  },
  {
   "cell_type": "code",
   "execution_count": null,
   "id": "f86078d0",
   "metadata": {},
   "outputs": [],
   "source": [
    "while True:\n",
    "    draw.rectangle((0,0,width,height), outline=0, fill=0)\n",
    "    \n",
    "    draw.text((x,2), \"Hello Kevin! ...\", font=font, fill=255)\n",
    "    \n",
    "    disp.image(image)\n",
    "    disp.display()\n",
    "    time.sleep(.1)\n",
    "    "
   ]
  },
  {
   "cell_type": "code",
   "execution_count": 10,
   "id": "dd0aa7dd",
   "metadata": {},
   "outputs": [
    {
     "data": {
      "text/plain": [
       "'\\nwhile True:\\n\\n    # Draw a black filled box to clear the image.\\n    draw.rectangle((0,0,width,height), outline=0, fill=0)\\n\\n    # Shell scripts for system monitoring from here : https://unix.stackexchange.com/questions/119126/command-to-display-memory-usage-disk-usage-and-cpu-load\\n    cmd = \"hostname -I | cut -d\\' \\' -f1\"\\n    IP = subprocess.check_output(cmd, shell = True )\\n    cmd = \"top -bn1 | grep load | awk \\'{printf \"CPU Load: %.2f\", $(NF-2)}\\'\"\\n    CPU = subprocess.check_output(cmd, shell = True )\\n    cmd = \"free -m | awk \\'NR==2{printf \"Mem: %s/%sMB %.2f%%\", $3,$2,$3*100/$2 }\\'\"\\n    MemUsage = subprocess.check_output(cmd, shell = True )\\n    cmd = \"df -h | awk \\'$NF==\"/\"{printf \"Disk: %d/%dGB %s\", $3,$2,$5}\\'\"\\n    Disk = subprocess.check_output(cmd, shell = True )\\n\\n    # Write two lines of text.\\n\\n    draw.text((x, top),       \"IP: \" + str(IP),  font=font, fill=255)\\n    draw.text((x, top+8),     str(CPU), font=font, fill=255)\\n    draw.text((x, top+16),    str(MemUsage),  font=font, fill=255)\\n    draw.text((x, top+25),    str(Disk),  font=font, fill=255)\\n\\n    # Display image.\\n    disp.image(image)\\n    disp.display()\\n    time.sleep(.1)\\n'"
      ]
     },
     "execution_count": 10,
     "metadata": {},
     "output_type": "execute_result"
    }
   ],
   "source": [
    "\n",
    "'''\n",
    "while True:\n",
    "\n",
    "    # Draw a black filled box to clear the image.\n",
    "    draw.rectangle((0,0,width,height), outline=0, fill=0)\n",
    "\n",
    "    # Shell scripts for system monitoring from here : https://unix.stackexchange.com/questions/119126/command-to-display-memory-usage-disk-usage-and-cpu-load\n",
    "    cmd = \"hostname -I | cut -d\\' \\' -f1\"\n",
    "    IP = subprocess.check_output(cmd, shell = True )\n",
    "    cmd = \"top -bn1 | grep load | awk '{printf \\\"CPU Load: %.2f\\\", $(NF-2)}'\"\n",
    "    CPU = subprocess.check_output(cmd, shell = True )\n",
    "    cmd = \"free -m | awk 'NR==2{printf \\\"Mem: %s/%sMB %.2f%%\\\", $3,$2,$3*100/$2 }'\"\n",
    "    MemUsage = subprocess.check_output(cmd, shell = True )\n",
    "    cmd = \"df -h | awk '$NF==\\\"/\\\"{printf \\\"Disk: %d/%dGB %s\\\", $3,$2,$5}'\"\n",
    "    Disk = subprocess.check_output(cmd, shell = True )\n",
    "\n",
    "    # Write two lines of text.\n",
    "\n",
    "    draw.text((x, top),       \"IP: \" + str(IP),  font=font, fill=255)\n",
    "    draw.text((x, top+8),     str(CPU), font=font, fill=255)\n",
    "    draw.text((x, top+16),    str(MemUsage),  font=font, fill=255)\n",
    "    draw.text((x, top+25),    str(Disk),  font=font, fill=255)\n",
    "\n",
    "    # Display image.\n",
    "    disp.image(image)\n",
    "    disp.display()\n",
    "    time.sleep(.1)\n",
    "'''\n"
   ]
  },
  {
   "cell_type": "code",
   "execution_count": 8,
   "id": "0ab2d56c",
   "metadata": {},
   "outputs": [],
   "source": [
    "disp.clear()\n",
    "disp.display()"
   ]
  },
  {
   "cell_type": "code",
   "execution_count": null,
   "id": "579bbeff",
   "metadata": {},
   "outputs": [],
   "source": []
  }
 ],
 "metadata": {
  "kernelspec": {
   "display_name": "Python 3",
   "language": "python",
   "name": "python3"
  },
  "language_info": {
   "codemirror_mode": {
    "name": "ipython",
    "version": 3
   },
   "file_extension": ".py",
   "mimetype": "text/x-python",
   "name": "python",
   "nbconvert_exporter": "python",
   "pygments_lexer": "ipython3",
   "version": "3.6.9"
  }
 },
 "nbformat": 4,
 "nbformat_minor": 5
}
