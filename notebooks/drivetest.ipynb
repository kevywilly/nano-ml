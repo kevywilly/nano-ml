{
 "cells": [
  {
   "cell_type": "code",
   "execution_count": 1,
   "id": "23a582ae",
   "metadata": {},
   "outputs": [],
   "source": [
    "# https://github.com/adafruit/Adafruit-Motor-HAT-Python-Library\n",
    "from Adafruit_MotorHAT import Adafruit_MotorHAT, Adafruit_DCMotor\n",
    "\n",
    "import time\n",
    "import atexit\n"
   ]
  },
  {
   "cell_type": "code",
   "execution_count": 2,
   "id": "3693e643",
   "metadata": {},
   "outputs": [],
   "source": [
    "# create a default object, no changes to I2C address or frequency\n",
    "mh = Adafruit_MotorHAT(addr=0x60, i2c_bus=1)\n",
    "\n",
    "# recommended for auto-disabling motors on shutdown!\n",
    "def turnOffMotors():\n",
    "    mh.getMotor(1).run(Adafruit_MotorHAT.RELEASE)\n",
    "    mh.getMotor(2).run(Adafruit_MotorHAT.RELEASE)\n",
    "    mh.getMotor(3).run(Adafruit_MotorHAT.RELEASE)\n",
    "    mh.getMotor(4).run(Adafruit_MotorHAT.RELEASE)\n"
   ]
  },
  {
   "cell_type": "code",
   "execution_count": 3,
   "id": "cc58aa12",
   "metadata": {},
   "outputs": [
    {
     "data": {
      "text/plain": [
       "<Adafruit_MotorHAT.Adafruit_MotorHAT_Motors.Adafruit_MotorHAT at 0x7f98697710>"
      ]
     },
     "execution_count": 3,
     "metadata": {},
     "output_type": "execute_result"
    }
   ],
   "source": [
    "mh"
   ]
  },
  {
   "cell_type": "code",
   "execution_count": 4,
   "id": "37cca65c",
   "metadata": {},
   "outputs": [
    {
     "data": {
      "text/plain": [
       "<function __main__.turnOffMotors()>"
      ]
     },
     "execution_count": 4,
     "metadata": {},
     "output_type": "execute_result"
    }
   ],
   "source": [
    "atexit.register(turnOffMotors)"
   ]
  },
  {
   "cell_type": "code",
   "execution_count": 5,
   "id": "1499dd40",
   "metadata": {},
   "outputs": [],
   "source": [
    "################################# DC motor test!\n",
    "myMotor = mh.getMotor(1)\n",
    "\n",
    "# set the speed to start, from 0 (off) to 255 (max speed)\n",
    "myMotor.setSpeed(150)\n",
    "myMotor.run(Adafruit_MotorHAT.FORWARD);\n",
    "# turn on motor\n",
    "myMotor.run(Adafruit_MotorHAT.RELEASE);"
   ]
  },
  {
   "cell_type": "code",
   "execution_count": 6,
   "id": "074e4757",
   "metadata": {},
   "outputs": [],
   "source": [
    "motors = [mh.getMotor(1), mh.getMotor(2)]\n",
    "speed = 50"
   ]
  },
  {
   "cell_type": "code",
   "execution_count": 7,
   "id": "8661a26e",
   "metadata": {},
   "outputs": [],
   "source": [
    "\n",
    "def setSpeed(v = None):\n",
    "    global speed\n",
    "    if(v):\n",
    "        speed = v\n",
    "    \n",
    "    for motor in motors:\n",
    "        motor.setSpeed(speed)\n",
    "        \n",
    "def forward():\n",
    "    setSpeed()\n",
    "    for motor in motors:\n",
    "        motor.run(Adafruit_MotorHAT.FORWARD)\n",
    "        \n",
    "def backward():\n",
    "    setSpeed()\n",
    "    for motor in motors:\n",
    "        motor.run(Adafruit_MotorHAT.BACKWARD)\n",
    "        \n",
    "def release():\n",
    "    for motor in motors:\n",
    "        motor.run(Adafruit_MotorHAT.RELEASE)\n",
    "        \n",
    "def turn(pct):\n",
    "    global speed\n",
    "    setSpeed()\n",
    "    if(pct >= 0):\n",
    "        motors[0].setSpeed(int(speed * abs(pct) / 100.0))\n",
    "    else:\n",
    "        motors[1].setSpeed(int(speed * -(pct) / 100.0))\n",
    "        \n",
    "    for motor in motors:\n",
    "        motor.run(Adafruit_MotorHAT.FORWARD)"
   ]
  },
  {
   "cell_type": "code",
   "execution_count": 8,
   "id": "cb8c8d7a",
   "metadata": {},
   "outputs": [],
   "source": [
    "setSpeed(50)"
   ]
  },
  {
   "cell_type": "code",
   "execution_count": 9,
   "id": "6aecab29",
   "metadata": {},
   "outputs": [],
   "source": [
    "forward()"
   ]
  },
  {
   "cell_type": "code",
   "execution_count": 16,
   "id": "a28af197",
   "metadata": {},
   "outputs": [],
   "source": [
    "backward()"
   ]
  },
  {
   "cell_type": "code",
   "execution_count": 17,
   "id": "adf467ba",
   "metadata": {},
   "outputs": [],
   "source": [
    "turn(50)"
   ]
  },
  {
   "cell_type": "code",
   "execution_count": 18,
   "id": "277512ae",
   "metadata": {},
   "outputs": [],
   "source": [
    "turn(-50)"
   ]
  },
  {
   "cell_type": "code",
   "execution_count": 10,
   "id": "5769a71e",
   "metadata": {},
   "outputs": [],
   "source": [
    "turnOffMotors()"
   ]
  },
  {
   "cell_type": "code",
   "execution_count": 40,
   "id": "6bd324eb",
   "metadata": {},
   "outputs": [
    {
     "name": "stdout",
     "output_type": "stream",
     "text": [
      "2\n"
     ]
    }
   ],
   "source": [
    "print(abs(-2))"
   ]
  },
  {
   "cell_type": "code",
   "execution_count": null,
   "id": "b54b90a3",
   "metadata": {},
   "outputs": [],
   "source": []
  }
 ],
 "metadata": {
  "kernelspec": {
   "display_name": "Python 3",
   "language": "python",
   "name": "python3"
  },
  "language_info": {
   "codemirror_mode": {
    "name": "ipython",
    "version": 3
   },
   "file_extension": ".py",
   "mimetype": "text/x-python",
   "name": "python",
   "nbconvert_exporter": "python",
   "pygments_lexer": "ipython3",
   "version": "3.6.9"
  }
 },
 "nbformat": 4,
 "nbformat_minor": 5
}
