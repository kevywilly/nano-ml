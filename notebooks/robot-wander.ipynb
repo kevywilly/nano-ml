{
 "cells": [
  {
   "cell_type": "code",
   "execution_count": 8,
   "id": "bb3354c2",
   "metadata": {},
   "outputs": [],
   "source": [
    "from jetbot.robot import Robot\n",
    "from Adafruit_MotorHAT import Adafruit_MotorHAT\n",
    "import threading\n",
    "from jetbot.display import Display"
   ]
  },
  {
   "cell_type": "code",
   "execution_count": 2,
   "id": "c94c4fe7",
   "metadata": {},
   "outputs": [
    {
     "name": "stdout",
     "output_type": "stream",
     "text": [
      "Starting Display\n",
      "log: Starting motors\n",
      "log: ...\n",
      "log: Motors started.\n"
     ]
    }
   ],
   "source": [
    "logger = Display()\n",
    "robot = Robot(logger=logger)\n"
   ]
  },
  {
   "cell_type": "code",
   "execution_count": 5,
   "id": "d68ee070",
   "metadata": {},
   "outputs": [
    {
     "name": "stdout",
     "output_type": "stream",
     "text": [
      "log: MV: Forward 0.3.\n"
     ]
    }
   ],
   "source": [
    "robot.forward(0.3)"
   ]
  },
  {
   "cell_type": "code",
   "execution_count": 6,
   "id": "86d14f98",
   "metadata": {},
   "outputs": [
    {
     "name": "stdout",
     "output_type": "stream",
     "text": [
      "log: MV: Stop.\n"
     ]
    }
   ],
   "source": [
    "robot.stop()"
   ]
  },
  {
   "cell_type": "code",
   "execution_count": null,
   "id": "10fcf6f4",
   "metadata": {},
   "outputs": [],
   "source": [
    "logger.write(\"line c\")"
   ]
  },
  {
   "cell_type": "code",
   "execution_count": null,
   "id": "d0497660",
   "metadata": {},
   "outputs": [],
   "source": [
    "logger.write(\"line d\")"
   ]
  },
  {
   "cell_type": "code",
   "execution_count": null,
   "id": "28111d62",
   "metadata": {},
   "outputs": [],
   "source": [
    "logger.write(\"line d\")"
   ]
  },
  {
   "cell_type": "code",
   "execution_count": 7,
   "id": "912b8a2c",
   "metadata": {},
   "outputs": [
    {
     "name": "stdout",
     "output_type": "stream",
     "text": [
      "Stopping Display\n"
     ]
    }
   ],
   "source": [
    "logger.stop()\n"
   ]
  },
  {
   "cell_type": "code",
   "execution_count": null,
   "id": "6af510f5",
   "metadata": {},
   "outputs": [],
   "source": []
  },
  {
   "cell_type": "code",
   "execution_count": null,
   "id": "c978657d",
   "metadata": {},
   "outputs": [],
   "source": []
  }
 ],
 "metadata": {
  "kernelspec": {
   "display_name": "Python 3",
   "language": "python",
   "name": "python3"
  },
  "language_info": {
   "codemirror_mode": {
    "name": "ipython",
    "version": 3
   },
   "file_extension": ".py",
   "mimetype": "text/x-python",
   "name": "python",
   "nbconvert_exporter": "python",
   "pygments_lexer": "ipython3",
   "version": "3.6.9"
  }
 },
 "nbformat": 4,
 "nbformat_minor": 5
}
