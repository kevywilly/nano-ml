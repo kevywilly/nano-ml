{
 "cells": [
  {
   "cell_type": "code",
   "execution_count": 1,
   "id": "27ce2460",
   "metadata": {},
   "outputs": [],
   "source": [
    "import torch\n",
    "import torchvision\n",
    "import cv2\n",
    "from PIL import Image\n",
    "from torchvision import transforms\n",
    "from typing import List\n",
    "import PIL\n",
    "from categories import _IMAGENET_CATEGORIES"
   ]
  },
  {
   "cell_type": "code",
   "execution_count": 2,
   "id": "55a6902c",
   "metadata": {},
   "outputs": [],
   "source": [
    "from settings import settings\n",
    "\n",
    "from config import TrainingConfig, MODELS_ROOT\n",
    "\n",
    "torch.hub.set_dir(MODELS_ROOT)"
   ]
  },
  {
   "cell_type": "code",
   "execution_count": 3,
   "id": "6c13c3ec",
   "metadata": {},
   "outputs": [
    {
     "name": "stderr",
     "output_type": "stream",
     "text": [
      "Downloading: \"https://download.pytorch.org/models/resnet18-f37072fd.pth\" to /data/models/checkpoints/resnet18-f37072fd.pth\n",
      "100.0%\n"
     ]
    }
   ],
   "source": [
    "# Define transforms to preprocess the image\n",
    "transform = transforms.Compose([\n",
    "    transforms.Resize(256),\n",
    "    transforms.CenterCrop(224),\n",
    "    transforms.ToTensor(),\n",
    "    transforms.Normalize(mean=[0.485, 0.456, 0.406], std=[0.229, 0.224, 0.225])\n",
    "])\n",
    "\n",
    "# Load the ResNet-18 pre-trained model\n",
    "model = torchvision.models.resnet18(pretrained=True)"
   ]
  },
  {
   "cell_type": "code",
   "execution_count": 4,
   "id": "175d1234",
   "metadata": {},
   "outputs": [],
   "source": [
    "def get_image_tensor(filename):\n",
    "    image = cv2.imread(f\"images/{filename}\", cv2.COLOR_BGR2RGB)\n",
    "    image = PIL.Image.fromarray(image)\n",
    "    return transform(image)"
   ]
  },
  {
   "cell_type": "code",
   "execution_count": 5,
   "id": "9af30bd6",
   "metadata": {},
   "outputs": [],
   "source": [
    "# Load an image and preprocess it\n",
    "def predict(filename):\n",
    "    \n",
    "    input_batch = get_image_tensor(filename).unsqueeze(0) # create a mini-batch as expected by the model\n",
    "    input_batch = input_batch.to('cuda')\n",
    "    model.to('cuda')\n",
    "    model.eval()\n",
    "    \n",
    "    with torch.no_grad():\n",
    "        output = model(input_batch)\n",
    "        \n",
    "    _, predicted = torch.topk(output, 2)\n",
    "    \n",
    "    for num in predicted[0]:\n",
    "        print('Predicted class: ', _IMAGENET_CATEGORIES[num])\n",
    "        \n",
    "    return predicted\n",
    "    "
   ]
  },
  {
   "cell_type": "code",
   "execution_count": 6,
   "id": "c22ef600",
   "metadata": {},
   "outputs": [
    {
     "name": "stdout",
     "output_type": "stream",
     "text": [
      "Predicted class:  brambling\n",
      "Predicted class:  bulbul\n"
     ]
    }
   ],
   "source": [
    "predicted = predict(\"image.jpg\")"
   ]
  },
  {
   "cell_type": "code",
   "execution_count": 7,
   "id": "e1ab7d0f",
   "metadata": {},
   "outputs": [
    {
     "name": "stdout",
     "output_type": "stream",
     "text": [
      "Predicted class:  sports car\n",
      "Predicted class:  car wheel\n"
     ]
    }
   ],
   "source": [
    "predicted = predict(\"car.jpg\")"
   ]
  },
  {
   "cell_type": "code",
   "execution_count": 8,
   "id": "c66383a6",
   "metadata": {},
   "outputs": [
    {
     "name": "stdout",
     "output_type": "stream",
     "text": [
      "Predicted class:  Saluki\n",
      "Predicted class:  whippet\n"
     ]
    }
   ],
   "source": [
    "predicted = predict(\"horse.jpg\")"
   ]
  },
  {
   "cell_type": "code",
   "execution_count": 9,
   "id": "eca36fc4",
   "metadata": {},
   "outputs": [
    {
     "name": "stdout",
     "output_type": "stream",
     "text": [
      "Predicted class:  ox\n",
      "Predicted class:  oxcart\n"
     ]
    }
   ],
   "source": [
    "predicted = predict(\"cow.jpg\")"
   ]
  },
  {
   "cell_type": "code",
   "execution_count": null,
   "id": "57d8fb6d",
   "metadata": {},
   "outputs": [],
   "source": []
  }
 ],
 "metadata": {
  "kernelspec": {
   "display_name": "Python 3",
   "language": "python",
   "name": "python3"
  },
  "language_info": {
   "codemirror_mode": {
    "name": "ipython",
    "version": 3
   },
   "file_extension": ".py",
   "mimetype": "text/x-python",
   "name": "python",
   "nbconvert_exporter": "python",
   "pygments_lexer": "ipython3",
   "version": "3.6.9"
  }
 },
 "nbformat": 4,
 "nbformat_minor": 5
}
